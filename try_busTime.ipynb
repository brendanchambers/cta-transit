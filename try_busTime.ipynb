{
 "cells": [
  {
   "cell_type": "code",
   "execution_count": 6,
   "metadata": {},
   "outputs": [],
   "source": [
    "# send a url request for chicago transit authority data via Bus Time API\n",
    "\n",
    "# sample request url:\n",
    "#http://www.ctabustracker.com/bustime/api/v2/gettime?key=89dj2he89d8j3j3ksjhdue93j\n",
    "\n",
    "import json\n",
    "\n",
    "config_path = \"config.json\"\n",
    "with open(config_path,'r') as configfile:\n",
    "    config = json.load(configfile)\n",
    "api_key = config['auth']['api-key']\n"
   ]
  },
  {
   "cell_type": "code",
   "execution_count": null,
   "metadata": {},
   "outputs": [],
   "source": []
  },
  {
   "cell_type": "code",
   "execution_count": null,
   "metadata": {},
   "outputs": [],
   "source": []
  }
 ],
 "metadata": {
  "kernelspec": {
   "display_name": "Python 3",
   "language": "python",
   "name": "python3"
  },
  "language_info": {
   "codemirror_mode": {
    "name": "ipython",
    "version": 3
   },
   "file_extension": ".py",
   "mimetype": "text/x-python",
   "name": "python",
   "nbconvert_exporter": "python",
   "pygments_lexer": "ipython3",
   "version": "3.7.1"
  }
 },
 "nbformat": 4,
 "nbformat_minor": 2
}
