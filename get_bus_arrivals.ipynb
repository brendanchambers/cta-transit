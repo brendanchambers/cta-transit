{
 "cells": [
  {
   "cell_type": "code",
   "execution_count": 39,
   "metadata": {},
   "outputs": [],
   "source": [
    "# send a url request for chicago transit authority data via Bus Time API\n",
    "\n",
    "# sample request url:\n",
    "#http://www.ctabustracker.com/bustime/api/v2/gettime?key=89dj2he89d8j3j3ksjhdue93j\n",
    "\n",
    "import json\n",
    "import requests\n",
    "\n",
    "\n",
    "config_path = \"config.json\"\n",
    "with open(config_path,'r') as configfile:\n",
    "    config = json.load(configfile)\n",
    "api_key = config['auth']['api-key']\n",
    "\n",
    "# 10566 - 55th & HP Blvd Westbound\n",
    "# 1654 - 55 & HP Blvd  Southbound\n",
    "# 1518 - 55 & HP Blvd Northbound\n",
    "\n",
    "stop_ids = [10566,1654,1518]\n",
    "route_ids = [6,55,171]\n"
   ]
  },
  {
   "cell_type": "markdown",
   "metadata": {},
   "source": [
    "# construct a query for the API prediction call"
   ]
  },
  {
   "cell_type": "code",
   "execution_count": 52,
   "metadata": {},
   "outputs": [
    {
     "name": "stdout",
     "output_type": "stream",
     "text": [
      "http://www.ctabustracker.com/bustime/api/v2/getpredictions?key=A2HB9NmR4UCYyfB3HD6NfRCxB&stpid=10566,1654,1518&rt=6,55,171&format=json\n"
     ]
    }
   ],
   "source": [
    "\n",
    "# prefix for predictions request\n",
    "prediction_url = 'http://www.ctabustracker.com/bustime/api/v2/getpredictions'\n",
    "\n",
    "# add apikey\n",
    "prediction_url += '?key=' + api_key\n",
    "\n",
    "\n",
    "\n",
    "# add arguments containing stop id(s)\n",
    "prediction_url += '&stpid='\n",
    "for idx,stpid in enumerate(stop_ids):\n",
    "    if idx > 0:\n",
    "         prediction_url += ','\n",
    "    prediction_url += str(stpid)\n",
    "\n",
    "# and route arguments\n",
    "prediction_url += '&rt='\n",
    "for idx,rtid in enumerate(route_ids):\n",
    "    if idx > 0:\n",
    "         prediction_url += ','\n",
    "    prediction_url += str(rtid)\n",
    "    \n",
    "prediction_url += '&format=json'\n",
    "    \n",
    "#params = dict(          #    <------------- todo this looks like a better way to format params\n",
    "#    origin='Chicago,IL'\n",
    "#)\n",
    "    \n",
    "# final html request\n",
    "print(prediction_url)\n",
    "\n"
   ]
  },
  {
   "cell_type": "markdown",
   "metadata": {},
   "source": [
    "# make a request, convert data to json, print out key data"
   ]
  },
  {
   "cell_type": "code",
   "execution_count": 70,
   "metadata": {},
   "outputs": [
    {
     "name": "stdout",
     "output_type": "stream",
     "text": [
      "Route 6 Southbound\n",
      "DUE\n",
      "Predicted to arrive at 20190223 18:40\n",
      "\n",
      "Route 55 Westbound\n",
      "7 minutes\n",
      "Predicted to arrive at 20190223 18:46\n",
      "\n",
      "Route 6 Northbound\n",
      "7 minutes\n",
      "Predicted to arrive at 20190223 18:47\n",
      "\n",
      "Route 55 Eastbound\n",
      "9 minutes\n",
      "Predicted to arrive at 20190223 18:49\n",
      "\n",
      "Route 6 Northbound\n",
      "18 minutes\n",
      "Predicted to arrive at 20190223 18:58\n",
      "\n",
      "Route 6 Southbound\n",
      "20 minutes\n",
      "Predicted to arrive at 20190223 19:00\n",
      "\n",
      "Route 55 Westbound\n",
      "20 minutes\n",
      "Predicted to arrive at 20190223 19:00\n",
      "\n",
      "Route 55 Eastbound\n",
      "24 minutes\n",
      "Predicted to arrive at 20190223 19:04\n",
      "\n",
      "Route 6 Southbound\n",
      "26 minutes\n",
      "Predicted to arrive at 20190223 19:06\n",
      "\n",
      "Route 6 Southbound\n",
      "28 minutes\n",
      "Predicted to arrive at 20190223 19:08\n",
      "\n"
     ]
    }
   ],
   "source": [
    "# option 2 - with requests library through urllib3    \n",
    "    \n",
    "\n",
    "response = requests.get(url=prediction_url) # , params=params)\n",
    "try:\n",
    "    data = response.json() # Check the JSON Response Content documentation below\n",
    "except:\n",
    "    print(\"Warning, JSON Decode Error\")\n",
    "    print(response)\n",
    "    \n",
    "response_list = data['bustime-response']['prd']\n",
    "for idx, response in enumerate(response_list):\n",
    "    route,direction = response['rt'],response['rtdir']\n",
    "    countdown, arrival_time = response['prdctdn'], response['prdtm']\n",
    "    \n",
    "    print(\"Route {} {}\".format( response['rt'], response['rtdir']) )\n",
    "    \n",
    "    if countdown == 'DUE':\n",
    "        print(\"DUE\".format(response['prdctdn']) )\n",
    "    else:\n",
    "        print(\"{} minutes\".format(response['prdctdn']) )\n",
    "    \n",
    "    print(\"Predicted to arrive at {}\".format(response['prdtm']) )\n",
    "    print()\n",
    "\n",
    "# a few useful fields-\n",
    "# rt (route) rtdir (route direction)\n",
    "# dly # true or false - if true prediction data may be inaccurate? todo look into this\n",
    "# 'prdtm' # predicted time in minutes e.g. 20190430 18:43\n",
    "# 'prdctdn' # minues until arrival or DUE e.g. 6\n",
    "# 'des' # destination"
   ]
  },
  {
   "cell_type": "markdown",
   "metadata": {},
   "source": [
    "# backup method for making URL request"
   ]
  },
  {
   "cell_type": "code",
   "execution_count": 68,
   "metadata": {},
   "outputs": [
    {
     "data": {
      "text/plain": [
       "'\\nimport urllib.request\\n\\ntry:\\n    with urllib.request.urlopen(prediction_url) as response:\\n        html = response.read().decode(\\'utf-8\\') #use whatever encoding as per the webpage\\n        print(html)\\n        json = json.loads(html)\\n        \\nexcept urllib.request.HTTPError as e:\\n    if e.code==404:\\n        print(f\"{url} is not found\")\\n    elif e.code==503:\\n        print(f\\'{url} base webservices are not available\\')\\n        ## can add authentication here \\n    else:\\n        print(\\'http error\\',e)\\n'"
      ]
     },
     "execution_count": 68,
     "metadata": {},
     "output_type": "execute_result"
    }
   ],
   "source": [
    "# option 1 - with urllib (no new packages required)\n",
    "# saving this in case we have any trouble installing the REQUESTS package on the rasp pi\n",
    "\n",
    "'''\n",
    "import urllib.request\n",
    "\n",
    "try:\n",
    "    with urllib.request.urlopen(prediction_url) as response:\n",
    "        html = response.read().decode('utf-8') #use whatever encoding as per the webpage\n",
    "        print(html)\n",
    "        json = json.loads(html)\n",
    "        \n",
    "except urllib.request.HTTPError as e:\n",
    "    if e.code==404:\n",
    "        print(f\"{url} is not found\")\n",
    "    elif e.code==503:\n",
    "        print(f'{url} base webservices are not available')\n",
    "        ## can add authentication here \n",
    "    else:\n",
    "        print('http error',e)\n",
    "'''\n"
   ]
  },
  {
   "cell_type": "code",
   "execution_count": null,
   "metadata": {},
   "outputs": [],
   "source": []
  },
  {
   "cell_type": "code",
   "execution_count": null,
   "metadata": {},
   "outputs": [],
   "source": []
  }
 ],
 "metadata": {
  "kernelspec": {
   "display_name": "Python 3",
   "language": "python",
   "name": "python3"
  },
  "language_info": {
   "codemirror_mode": {
    "name": "ipython",
    "version": 3
   },
   "file_extension": ".py",
   "mimetype": "text/x-python",
   "name": "python",
   "nbconvert_exporter": "python",
   "pygments_lexer": "ipython3",
   "version": "3.7.1"
  }
 },
 "nbformat": 4,
 "nbformat_minor": 2
}
